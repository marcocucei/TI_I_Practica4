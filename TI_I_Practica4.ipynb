{
  "nbformat": 4,
  "nbformat_minor": 0,
  "metadata": {
    "colab": {
      "provenance": [],
      "authorship_tag": "ABX9TyP7IPB5SQnKq903NqeeHaJY",
      "include_colab_link": true
    },
    "kernelspec": {
      "name": "python3",
      "display_name": "Python 3"
    },
    "language_info": {
      "name": "python"
    }
  },
  "cells": [
    {
      "cell_type": "markdown",
      "metadata": {
        "id": "view-in-github",
        "colab_type": "text"
      },
      "source": [
        "<a href=\"https://colab.research.google.com/github/marcocucei/TI_I_Practica4/blob/main/TI_I_Practica4.ipynb\" target=\"_parent\"><img src=\"https://colab.research.google.com/assets/colab-badge.svg\" alt=\"Open In Colab\"/></a>"
      ]
    },
    {
      "cell_type": "markdown",
      "source": [
        "# Práctica 4 - Dashboard Random Walk + Path Length/MSD\n",
        "\n",
        "**Nombre:** Marco Antonio Hernández Preciado  \n",
        "**e-mail:** marco.hpreciado@alumnos.udg.mx"
      ],
      "metadata": {
        "id": "XBLwbA6cMX9U"
      }
    },
    {
      "cell_type": "code",
      "source": [],
      "metadata": {
        "id": "JX2hgnq1MT4C"
      },
      "execution_count": null,
      "outputs": []
    }
  ]
}